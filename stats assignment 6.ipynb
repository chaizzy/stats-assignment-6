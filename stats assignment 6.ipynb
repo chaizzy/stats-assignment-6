{
 "cells": [
  {
   "cell_type": "code",
   "execution_count": 1,
   "id": "e91f059c-53a0-4368-a3be-012ed5c07231",
   "metadata": {},
   "outputs": [],
   "source": [
    "# ANS 1:\n",
    "# t-test :\n",
    "# it is statistical test used to the inferences about population parameter based on the sample data\n",
    "# we use this when we don't have population standard deviation\n",
    "# size of the sample is less than 30\n",
    "# t-test uses the sample mean and sample std to calculate test statistics\n",
    "\n",
    "# Z-test\n",
    "# it is statistical test used to the inferences about population parameter based on the sample data\n",
    "# we use this when we have the knowledge about population standard deviation\n",
    "# sample size is grater than 30\n",
    "# z-test uses the knowledge of population std to calculate the test statistics\n",
    "\n",
    "\n",
    "# t-test scenerio\n",
    "# scenerio when we have to compare means of the samples and tries to estimate which sample is better \n",
    "# Suppose you are conducting a study to compare the effectiveness of two different teaching methods (Method A and Method B) in improving students' test scores. \n",
    "# You randomly select two groups of students: one group receives Method A, and the other group receives Method B. \n",
    "# After the intervention, you collect the test scores from each group and want to determine if there is a significant difference between the means of the two groups.\n",
    "\n",
    "# z-test scenerio\n",
    "# scenerio where you have to give a conclusion using population std\n",
    "# imagine you are working for a company that manufactures light bulbs, and you want to assess whether a new manufacturing process leads to an increase in the average lifespan of the bulbs. \n",
    "# You take a large random sample of light bulbs produced using the new process and measure their lifespans. \n",
    "# Additionally, you know the population standard deviation of the lifespans from historical data.\n"
   ]
  },
  {
   "cell_type": "code",
   "execution_count": 2,
   "id": "5f149bab-ffe8-4f2a-94b5-4c25dcd2c8db",
   "metadata": {},
   "outputs": [],
   "source": [
    "# ANS 2 :\n",
    "# \"one tailed test\"\n",
    "# In this , alternate hypothesis specifies the direction for the  relation between the variables\n",
    "# It states whether the effect is expected to be positive or negative.\n",
    "# the critical region or the region of rejection is defined on only one side of the sampling distribution.\n",
    "\n",
    "# \"two tail test\"\n",
    "# In this , alternate hypothesis does not specifies the direction for the relation between the variables\n",
    "# The critical region or the region of rejection is split evenly on both sides of the sampling distribution."
   ]
  },
  {
   "cell_type": "code",
   "execution_count": 3,
   "id": "641d987d-172a-4584-8576-61bea2135fac",
   "metadata": {},
   "outputs": [],
   "source": [
    "# ANS 3:\n",
    "# we decide type 1 or type 2 error on the basis of outcomes\n",
    "# for example \n",
    "# relaity : null hypothesis is true or null hypothesis is false\n",
    "\n",
    "# outcome 1 : we reject the the null hypothesis if the reality is false --- good outcome \n",
    "# outcome 2 : we reject the the null hypothesis if the reality is true --- type 1 error\n",
    "# outcome 3 : we accept  the null hypothesis if the reality is false --- type 2 error\n",
    "# outcome 4:  we reject the the null hypothesis if the reality is true --- good outcome "
   ]
  },
  {
   "cell_type": "code",
   "execution_count": 4,
   "id": "8f8ff16e-20be-4671-921a-dda68b6878cb",
   "metadata": {},
   "outputs": [],
   "source": [
    "# ANS 4 :\n",
    "# Bayes theorem\n",
    "# it state that probablity of an event having w.r.t to another event having a condition that another event  already occurred is \n",
    "# pr(B/A) = pr(A) * pr(A/B) / pr(A) --- bayes theorem\n",
    "\n",
    "# for example\n",
    "# we features like size of house , location , price\n",
    "# given that size of house as x1 , location as x2  ---- independent variables \n",
    "# price as y ---- dependent variable\n",
    "# pr(y/x1,x2) = pr(y) * pr(x1,x2/y) / pr(x1,x2) "
   ]
  },
  {
   "cell_type": "code",
   "execution_count": 9,
   "id": "ad8f9707-f74f-4cad-8c91-94420db2019c",
   "metadata": {},
   "outputs": [
    {
     "name": "stdout",
     "output_type": "stream",
     "text": [
      "sample mean: 50\n",
      "Sample standard deviation: 5\n",
      "95% Confidence interval 48.614096175650324 - 51.385903824349676\n"
     ]
    }
   ],
   "source": [
    "# ANS 5:\n",
    "# confidence interval is a range of values which provides an estimation possible values of a unknown population mean\n",
    "# for example :\n",
    "# confidence interval 95%\n",
    "# we assume sample size 50\n",
    "import scipy.stats as stats\n",
    "import math \n",
    "\n",
    "sample_mean = 50\n",
    "sample_std = 5\n",
    "sample_size = 50\n",
    "significance_level=0.05\n",
    "z_score = stats.norm.ppf(1 - (significance_level) / 2)\n",
    "\n",
    "margin_of_error = z_score * (sample_std / math.sqrt(sample_size))\n",
    "lower_bound = sample_mean - margin_of_error\n",
    "upper_bound = sample_mean + margin_of_error\n",
    "\n",
    "\n",
    "print(\"sample mean:\",sample_mean)\n",
    "print(\"Sample standard deviation:\",sample_std)\n",
    "print(\"95% Confidence interval\" , lower_bound ,\"-\", upper_bound)\n",
    " "
   ]
  },
  {
   "cell_type": "code",
   "execution_count": 5,
   "id": "f6574952-673d-403c-883c-026f462e50f6",
   "metadata": {},
   "outputs": [],
   "source": [
    "# ANS 6 :\n",
    "#Problem:\n",
    "# You have a bag containing 10 balls: 6 red balls and 4 blue balls. \n",
    "# You randomly select a ball from the bag, but you don't look at its color. Your friend, who knows the bag's contents, tells you that the ball you picked is red. What is the probability that the ball is actually red?\n",
    "\n",
    "#Solution:\n",
    "#Let's define the events:\n",
    "#A: The ball is red.\n",
    "#B: Your friend tells you the ball is red.\n",
    "\n",
    "#Given information:\n",
    "#P(A) = 6/10 (probability of selecting a red ball initially)\n",
    "#P(B|A) = 1 (your friend correctly tells you the ball is red, given that it is red)\n",
    "\n",
    "#We want to find P(A|B), the probability that the ball is red given your friend's statement.\n",
    "\n",
    "#Using Bayes' Theorem:\n",
    "#P(A|B) = (P(B|A) * P(A)) / P(B)\n",
    "\n",
    "#To calculate P(B), we need to consider the two possibilities:\n",
    "\n",
    "#You select a red ball (event A) and your friend correctly tells you it's red (event B).\n",
    "#You select a blue ball (not event A), but your friend mistakenly tells you it's red (event B).\n",
    "#P(B) = P(B|A) * P(A) + P(B|not A) * P(not A)\n",
    "\n",
    "#P(not A) = 1 - P(A) = 1 - 6/10 = 4/10\n",
    "\n",
    "#Substituting the values into Bayes' Theorem:\n",
    "#P(A|B) = (P(B|A) * P(A)) / (P(B|A) * P(A) + P(B|not A) * P(not A))\n",
    "\n",
    "#Calculating P(A|B):\n",
    "#P(A|B) = (1 * 6/10) / ((1 * 6/10) + (0 * 4/10))\n",
    "#P(A|B) = 6/6 = 1\n",
    "\n",
    "#Therefore, the probability that the ball is actually red, given your friend tells you it's red, is 1 or 100%."
   ]
  },
  {
   "cell_type": "code",
   "execution_count": 10,
   "id": "fb38f6d0-02df-4063-bb6e-e00a21aab5a7",
   "metadata": {},
   "outputs": [
    {
     "name": "stdout",
     "output_type": "stream",
     "text": [
      "sample mean: 50\n",
      "Sample standard deviation: 5\n",
      "95% Confidence interval 48.210805856282846 - 51.789194143717154\n"
     ]
    }
   ],
   "source": [
    "# ANS 7:\n",
    "# we assume sample size = 30\n",
    "import scipy.stats as stats\n",
    "import math \n",
    "\n",
    "sample_mean = 50\n",
    "sample_std = 5\n",
    "sample_size = 30\n",
    "significance_level=0.05\n",
    "z_score = stats.norm.ppf(1 - (significance_level) / 2)\n",
    "\n",
    "margin_of_error = z_score * (sample_std / math.sqrt(sample_size))\n",
    "lower_bound = sample_mean - margin_of_error\n",
    "upper_bound = sample_mean + margin_of_error\n",
    "\n",
    "\n",
    "print(\"sample mean:\",sample_mean)\n",
    "print(\"Sample standard deviation:\",sample_std)\n",
    "print(\"95% Confidence interval\" , lower_bound ,\"-\", upper_bound)\n",
    " "
   ]
  },
  {
   "cell_type": "code",
   "execution_count": 11,
   "id": "8b3e6fc4-b9c7-4097-ad77-fde9218f056c",
   "metadata": {},
   "outputs": [],
   "source": [
    "# ANS 8 :\n",
    "# margin of error is value which added or subtracted to sample mean to get the confidence interval or \n",
    "# range of values \n",
    "# It quantifies the amount of uncertainty associated with the estimate and represents the maximum expected difference between the sample estimate and \n",
    "# the true population parameter.\n",
    "\n",
    "# as the sample size increases values of lower bound and upper bound will be more \n",
    "# for example : refer above ans 7 and ans 5"
   ]
  },
  {
   "cell_type": "code",
   "execution_count": 12,
   "id": "d041f825-6da7-4a05-84d3-4bda1772f10b",
   "metadata": {},
   "outputs": [],
   "source": [
    "# ANS 9 \n",
    "# Z_SCORE =  (x - μ) / σ\n",
    "# x = 75\n",
    "# mean = 70 \n",
    "# std = 5\n",
    "\n",
    "# z_score = (75-70) / 5\n",
    "# z_score = 1\n",
    " \n",
    "# z_score tells no. of  std  is a data point is away from the mean of a random variable \n",
    "# so , exactle 1 std 75 is away from the mean"
   ]
  },
  {
   "cell_type": "code",
   "execution_count": 36,
   "id": "7c0e2ca2-8d70-4faf-b8ff-4957684e2c6c",
   "metadata": {},
   "outputs": [
    {
     "name": "stdout",
     "output_type": "stream",
     "text": [
      "Test statistic (t): 16.970562748477143\n",
      "Critical value: 2.009575234489209\n",
      "Conclusion: Reject the null hypothesis\n"
     ]
    }
   ],
   "source": [
    "# ANS 10 :\n",
    "import scipy.stats as stats\n",
    "\n",
    "# null_hypothesis = population mean is zero\n",
    "# alternate_hypothesis = population is not equal to zero \n",
    "# it is a two tail test\n",
    "\n",
    "sample_mean = 6\n",
    "population_mean = 0\n",
    "sample_std = 2.5\n",
    "sample_size = 50\n",
    "significance_level = 0.05\n",
    "\n",
    "# Compute the test statistic\n",
    "t = (sample_mean - population_mean) / (sample_std / (sample_size ** 0.5))\n",
    "\n",
    "critical_value = stats.t.ppf(0.9750 , 49)\n",
    "\n",
    "if (t) > critical_value:\n",
    "    conclusion = \"Reject the null hypothesis\"\n",
    "else:\n",
    "    conclusion = \"Fail to reject the null hypothesis\"\n",
    "\n",
    "print(\"Test statistic (t):\", t)\n",
    "print(\"Critical value:\", critical_value)\n",
    "print(\"Conclusion:\", conclusion)\n"
   ]
  },
  {
   "cell_type": "code",
   "execution_count": 6,
   "id": "1f7fe838-1061-4d69-85eb-306d3755f678",
   "metadata": {},
   "outputs": [
    {
     "name": "stdout",
     "output_type": "stream",
     "text": [
      "95% Confidence Interval: 0.6918074606190788 0.6081925393809212\n"
     ]
    }
   ],
   "source": [
    "# important \n",
    "# ANS 11\n",
    "import scipy.stats as stat\n",
    "import math\n",
    "\n",
    "sample_size = 500\n",
    "success_count = int(0.65 * sample_size)\n",
    "\n",
    "confidence_level = 0.95\n",
    "z_score =(stat.norm.ppf((1 - confidence_level) / 2))\n",
    "\n",
    "p = success_count / sample_size\n",
    "margin_of_error = z_score * math.sqrt((p * (1 - p)) / sample_size)\n",
    "lower_bound = p - margin_of_error\n",
    "upper_bound = p + margin_of_error\n",
    "\n",
    "print(\"95% Confidence Interval:\" , lower_bound, upper_bound)\n"
   ]
  },
  {
   "cell_type": "code",
   "execution_count": 27,
   "id": "39e9d0ce-1897-4ac3-89f0-b20b18b55494",
   "metadata": {},
   "outputs": [
    {
     "name": "stdout",
     "output_type": "stream",
     "text": [
      "Test statistic (t): 2.10386061995483\n",
      "Critical value: 2.3923774702828906\n",
      "Conclusion: Fail to reject the null hypothesis\n"
     ]
    }
   ],
   "source": [
    "# ANS 12 :\n",
    "\n",
    "\n",
    "import numpy as np\n",
    "import scipy.stats as stats\n",
    "\n",
    "# NULL HYPOTHESIS : BOTH samples have no significant difference \n",
    "# alternate hypothesis : both samples have significant difference\n",
    "# we assume both sample size is 30\n",
    "sample_mean_1 = 85\n",
    "sample_std_1 = 6\n",
    "sample_size_1 = 30\n",
    "\n",
    "sample_mean_2 = 82\n",
    "sample_std_2 = 5\n",
    "sample_size_2 = 30\n",
    "\n",
    "significance_level = 0.01\n",
    "\n",
    "degrees_of_freedom = sample_size_1 + sample_size_2 - 2\n",
    "pooled_std = np.sqrt(((sample_size_1 - 1) * sample_std_1 ** 2 + (sample_size_2 - 1) * sample_std_2 ** 2) / degrees_of_freedom)\n",
    "\n",
    "t = (sample_mean_1 - sample_mean_2) / (pooled_std * np.sqrt(1 / sample_size_1 + 1 / sample_size_2))\n",
    "\n",
    "\n",
    "critical_value = stats.t.ppf(1 - (significance_level), degrees_of_freedom)\n",
    "\n",
    "\n",
    "if abs(t) > critical_value:\n",
    "    conclusion = \"Reject the null hypothesis\"\n",
    "else:\n",
    "    conclusion = \"Fail to reject the null hypothesis\"\n",
    "\n",
    "print(\"Test statistic (t):\", t)\n",
    "print(\"Critical value:\", critical_value)\n",
    "print(\"Conclusion:\", conclusion)\n"
   ]
  },
  {
   "cell_type": "code",
   "execution_count": 28,
   "id": "ef00179f-5a9b-4260-bd1c-6609f799fdc8",
   "metadata": {},
   "outputs": [
    {
     "name": "stdout",
     "output_type": "stream",
     "text": [
      "sample mean: 65\n",
      "95% Confidence interval 65.0 - 65.0\n"
     ]
    }
   ],
   "source": [
    "# ANS 13 :\n",
    "# we assume sample size = 30\n",
    "import scipy.stats as stats\n",
    "import math \n",
    "\n",
    "poulation_mean = 50\n",
    "population_std = 5\n",
    "sample_size = 50\n",
    "sample_mean = 65\n",
    "significance_level=0.10\n",
    "\n",
    " \n",
    "\n",
    "z_score = stats.norm.ppf(1 - (significance_level/2))\n",
    "margin_of_error = z_score * (population_mean/ math.sqrt(sample_size))\n",
    "lower_bound = sample_mean - margin_of_error\n",
    "upper_bound = sample_mean + margin_of_error\n",
    "\n",
    "\n",
    "print(\"sample mean:\",sample_mean)\n",
    "print(\"95% Confidence interval\" , lower_bound ,\"-\", upper_bound)\n",
    " "
   ]
  },
  {
   "cell_type": "code",
   "execution_count": 29,
   "id": "3b1785b9-4dd0-4614-8cf7-8db88ef36b26",
   "metadata": {},
   "outputs": [
    {
     "data": {
      "text/plain": [
       "1.6448536269514722"
      ]
     },
     "execution_count": 29,
     "metadata": {},
     "output_type": "execute_result"
    }
   ],
   "source": [
    "z_score"
   ]
  },
  {
   "cell_type": "code",
   "execution_count": 30,
   "id": "c1465a2e-27f2-475e-a346-a0c33d21ebf9",
   "metadata": {},
   "outputs": [
    {
     "data": {
      "text/plain": [
       "0.0"
      ]
     },
     "execution_count": 30,
     "metadata": {},
     "output_type": "execute_result"
    }
   ],
   "source": [
    "margin_of_error"
   ]
  },
  {
   "cell_type": "code",
   "execution_count": 37,
   "id": "733cf4c0-8126-4d3d-ab8e-3aabf95a6806",
   "metadata": {},
   "outputs": [
    {
     "name": "stdout",
     "output_type": "stream",
     "text": [
      "Test statistic (t): 27.386127875258307\n",
      "Critical value: 1.311433643950529\n",
      "Conclusion: Reject the null hypothesis\n"
     ]
    }
   ],
   "source": [
    "# ANS 14 :\n",
    "",
    "import scipy.stats as stats\n",
    "\n",
    "# null_hypothesis = population mean is zero\n",
    "# alternate_hypothesis = population is not equal to zero \n",
    "# it is a two tail test\n",
    "\n",
    "sample_mean = 0.25\n",
    "population_mean = 0\n",
    "sample_std = 0.05\n",
    "sample_size = 30\n",
    "significance_level = 0.10\n",
    "\n",
    "# Compute the test statistic\n",
    "t = (sample_mean - population_mean) / (sample_std / (sample_size ** 0.5))\n",
    "degree_of_freedom = sample_size - 1\n",
    "critical_value = stats.t.ppf(0.90 , degree_of_freedom)\n",
    "\n",
    "if (t) > critical_value:\n",
    "    conclusion = \"Reject the null hypothesis\"\n",
    "else:\n",
    "    conclusion = \"Fail to reject the null hypothesis\"\n",
    "\n",
    "print(\"Test statistic (t):\", t)\n",
    "print(\"Critical value:\", critical_value)\n",
    "print(\"Conclusion:\", conclusion)\n"
   ]
  },
  {
   "cell_type": "code",
   "execution_count": null,
   "id": "7b6f620a-76d8-49c1-9dad-84e886333c16",
   "metadata": {},
   "outputs": [],
   "source": []
  }
 ],
 "metadata": {
  "kernelspec": {
   "display_name": "Python 3 (ipykernel)",
   "language": "python",
   "name": "python3"
  },
  "language_info": {
   "codemirror_mode": {
    "name": "ipython",
    "version": 3
   },
   "file_extension": ".py",
   "mimetype": "text/x-python",
   "name": "python",
   "nbconvert_exporter": "python",
   "pygments_lexer": "ipython3",
   "version": "3.10.8"
  }
 },
 "nbformat": 4,
 "nbformat_minor": 5
}
